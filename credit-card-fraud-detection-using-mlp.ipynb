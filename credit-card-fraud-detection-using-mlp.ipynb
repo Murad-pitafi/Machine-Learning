{
 "cells": [
  {
   "cell_type": "code",
   "execution_count": 1,
   "id": "a704f828",
   "metadata": {
    "_cell_guid": "b1076dfc-b9ad-4769-8c92-a6c4dae69d19",
    "_uuid": "8f2839f25d086af736a60e9eeb907d3b93b6e0e5",
    "execution": {
     "iopub.execute_input": "2023-11-19T18:41:22.800534Z",
     "iopub.status.busy": "2023-11-19T18:41:22.799451Z",
     "iopub.status.idle": "2023-11-19T18:41:23.176965Z",
     "shell.execute_reply": "2023-11-19T18:41:23.175855Z"
    },
    "papermill": {
     "duration": 0.386587,
     "end_time": "2023-11-19T18:41:23.179367",
     "exception": false,
     "start_time": "2023-11-19T18:41:22.792780",
     "status": "completed"
    },
    "tags": []
   },
   "outputs": [
    {
     "name": "stdout",
     "output_type": "stream",
     "text": [
      "/kaggle/input/wine-quality/WineQT.csv\n",
      "/kaggle/input/house-price/house price.csv\n",
      "/kaggle/input/credit-card/creditcard.csv\n"
     ]
    }
   ],
   "source": [
    "# This Python 3 environment comes with many helpful analytics libraries installed\n",
    "# It is defined by the kaggle/python Docker image: https://github.com/kaggle/docker-python\n",
    "# For example, here's several helpful packages to load\n",
    "\n",
    "import numpy as np # linear algebra\n",
    "import pandas as pd # data processing, CSV file I/O (e.g. pd.read_csv)\n",
    "\n",
    "# Input data files are available in the read-only \"../input/\" directory\n",
    "# For example, running this (by clicking run or pressing Shift+Enter) will list all files under the input directory\n",
    "\n",
    "import os\n",
    "for dirname, _, filenames in os.walk('/kaggle/input'):\n",
    "    for filename in filenames:\n",
    "        print(os.path.join(dirname, filename))\n",
    "\n",
    "# You can write up to 20GB to the current directory (/kaggle/working/) that gets preserved as output when you create a version using \"Save & Run All\" \n",
    "# You can also write temporary files to /kaggle/temp/, but they won't be saved outside of the current session"
   ]
  },
  {
   "cell_type": "code",
   "execution_count": 2,
   "id": "12c0e325",
   "metadata": {
    "execution": {
     "iopub.execute_input": "2023-11-19T18:41:23.193006Z",
     "iopub.status.busy": "2023-11-19T18:41:23.192385Z",
     "iopub.status.idle": "2023-11-19T18:41:35.653701Z",
     "shell.execute_reply": "2023-11-19T18:41:35.652554Z"
    },
    "papermill": {
     "duration": 12.470031,
     "end_time": "2023-11-19T18:41:35.656281",
     "exception": false,
     "start_time": "2023-11-19T18:41:23.186250",
     "status": "completed"
    },
    "tags": []
   },
   "outputs": [],
   "source": [
    "from keras.models import Sequential\n",
    "from keras.layers import Dense\n",
    "import numpy as np\n",
    "from sklearn.metrics import accuracy_score, precision_score, recall_score , f1_score"
   ]
  },
  {
   "cell_type": "code",
   "execution_count": 3,
   "id": "4f0c0c54",
   "metadata": {
    "execution": {
     "iopub.execute_input": "2023-11-19T18:41:35.667561Z",
     "iopub.status.busy": "2023-11-19T18:41:35.666731Z",
     "iopub.status.idle": "2023-11-19T18:41:39.906900Z",
     "shell.execute_reply": "2023-11-19T18:41:39.905957Z"
    },
    "papermill": {
     "duration": 4.248333,
     "end_time": "2023-11-19T18:41:39.909290",
     "exception": false,
     "start_time": "2023-11-19T18:41:35.660957",
     "status": "completed"
    },
    "tags": []
   },
   "outputs": [],
   "source": [
    "credit= pd.read_csv('/kaggle/input/credit-card/creditcard.csv')\n",
    "wine = pd.read_csv('/kaggle/input/wine-quality/WineQT.csv')\n",
    "house= pd.read_csv('/kaggle/input/house-price/house price.csv')"
   ]
  },
  {
   "cell_type": "code",
   "execution_count": 4,
   "id": "b647ab65",
   "metadata": {
    "execution": {
     "iopub.execute_input": "2023-11-19T18:41:39.920164Z",
     "iopub.status.busy": "2023-11-19T18:41:39.919791Z",
     "iopub.status.idle": "2023-11-19T18:41:39.959888Z",
     "shell.execute_reply": "2023-11-19T18:41:39.958775Z"
    },
    "papermill": {
     "duration": 0.048377,
     "end_time": "2023-11-19T18:41:39.962332",
     "exception": false,
     "start_time": "2023-11-19T18:41:39.913955",
     "status": "completed"
    },
    "tags": []
   },
   "outputs": [
    {
     "data": {
      "text/html": [
       "<div>\n",
       "<style scoped>\n",
       "    .dataframe tbody tr th:only-of-type {\n",
       "        vertical-align: middle;\n",
       "    }\n",
       "\n",
       "    .dataframe tbody tr th {\n",
       "        vertical-align: top;\n",
       "    }\n",
       "\n",
       "    .dataframe thead th {\n",
       "        text-align: right;\n",
       "    }\n",
       "</style>\n",
       "<table border=\"1\" class=\"dataframe\">\n",
       "  <thead>\n",
       "    <tr style=\"text-align: right;\">\n",
       "      <th></th>\n",
       "      <th>Time</th>\n",
       "      <th>V1</th>\n",
       "      <th>V2</th>\n",
       "      <th>V3</th>\n",
       "      <th>V4</th>\n",
       "      <th>V5</th>\n",
       "      <th>V6</th>\n",
       "      <th>V7</th>\n",
       "      <th>V8</th>\n",
       "      <th>V9</th>\n",
       "      <th>...</th>\n",
       "      <th>V21</th>\n",
       "      <th>V22</th>\n",
       "      <th>V23</th>\n",
       "      <th>V24</th>\n",
       "      <th>V25</th>\n",
       "      <th>V26</th>\n",
       "      <th>V27</th>\n",
       "      <th>V28</th>\n",
       "      <th>Amount</th>\n",
       "      <th>Class</th>\n",
       "    </tr>\n",
       "  </thead>\n",
       "  <tbody>\n",
       "    <tr>\n",
       "      <th>0</th>\n",
       "      <td>0.0</td>\n",
       "      <td>-1.359807</td>\n",
       "      <td>-0.072781</td>\n",
       "      <td>2.536347</td>\n",
       "      <td>1.378155</td>\n",
       "      <td>-0.338321</td>\n",
       "      <td>0.462388</td>\n",
       "      <td>0.239599</td>\n",
       "      <td>0.098698</td>\n",
       "      <td>0.363787</td>\n",
       "      <td>...</td>\n",
       "      <td>-0.018307</td>\n",
       "      <td>0.277838</td>\n",
       "      <td>-0.110474</td>\n",
       "      <td>0.066928</td>\n",
       "      <td>0.128539</td>\n",
       "      <td>-0.189115</td>\n",
       "      <td>0.133558</td>\n",
       "      <td>-0.021053</td>\n",
       "      <td>149.62</td>\n",
       "      <td>0</td>\n",
       "    </tr>\n",
       "    <tr>\n",
       "      <th>1</th>\n",
       "      <td>0.0</td>\n",
       "      <td>1.191857</td>\n",
       "      <td>0.266151</td>\n",
       "      <td>0.166480</td>\n",
       "      <td>0.448154</td>\n",
       "      <td>0.060018</td>\n",
       "      <td>-0.082361</td>\n",
       "      <td>-0.078803</td>\n",
       "      <td>0.085102</td>\n",
       "      <td>-0.255425</td>\n",
       "      <td>...</td>\n",
       "      <td>-0.225775</td>\n",
       "      <td>-0.638672</td>\n",
       "      <td>0.101288</td>\n",
       "      <td>-0.339846</td>\n",
       "      <td>0.167170</td>\n",
       "      <td>0.125895</td>\n",
       "      <td>-0.008983</td>\n",
       "      <td>0.014724</td>\n",
       "      <td>2.69</td>\n",
       "      <td>0</td>\n",
       "    </tr>\n",
       "    <tr>\n",
       "      <th>2</th>\n",
       "      <td>1.0</td>\n",
       "      <td>-1.358354</td>\n",
       "      <td>-1.340163</td>\n",
       "      <td>1.773209</td>\n",
       "      <td>0.379780</td>\n",
       "      <td>-0.503198</td>\n",
       "      <td>1.800499</td>\n",
       "      <td>0.791461</td>\n",
       "      <td>0.247676</td>\n",
       "      <td>-1.514654</td>\n",
       "      <td>...</td>\n",
       "      <td>0.247998</td>\n",
       "      <td>0.771679</td>\n",
       "      <td>0.909412</td>\n",
       "      <td>-0.689281</td>\n",
       "      <td>-0.327642</td>\n",
       "      <td>-0.139097</td>\n",
       "      <td>-0.055353</td>\n",
       "      <td>-0.059752</td>\n",
       "      <td>378.66</td>\n",
       "      <td>0</td>\n",
       "    </tr>\n",
       "    <tr>\n",
       "      <th>3</th>\n",
       "      <td>1.0</td>\n",
       "      <td>-0.966272</td>\n",
       "      <td>-0.185226</td>\n",
       "      <td>1.792993</td>\n",
       "      <td>-0.863291</td>\n",
       "      <td>-0.010309</td>\n",
       "      <td>1.247203</td>\n",
       "      <td>0.237609</td>\n",
       "      <td>0.377436</td>\n",
       "      <td>-1.387024</td>\n",
       "      <td>...</td>\n",
       "      <td>-0.108300</td>\n",
       "      <td>0.005274</td>\n",
       "      <td>-0.190321</td>\n",
       "      <td>-1.175575</td>\n",
       "      <td>0.647376</td>\n",
       "      <td>-0.221929</td>\n",
       "      <td>0.062723</td>\n",
       "      <td>0.061458</td>\n",
       "      <td>123.50</td>\n",
       "      <td>0</td>\n",
       "    </tr>\n",
       "    <tr>\n",
       "      <th>4</th>\n",
       "      <td>2.0</td>\n",
       "      <td>-1.158233</td>\n",
       "      <td>0.877737</td>\n",
       "      <td>1.548718</td>\n",
       "      <td>0.403034</td>\n",
       "      <td>-0.407193</td>\n",
       "      <td>0.095921</td>\n",
       "      <td>0.592941</td>\n",
       "      <td>-0.270533</td>\n",
       "      <td>0.817739</td>\n",
       "      <td>...</td>\n",
       "      <td>-0.009431</td>\n",
       "      <td>0.798278</td>\n",
       "      <td>-0.137458</td>\n",
       "      <td>0.141267</td>\n",
       "      <td>-0.206010</td>\n",
       "      <td>0.502292</td>\n",
       "      <td>0.219422</td>\n",
       "      <td>0.215153</td>\n",
       "      <td>69.99</td>\n",
       "      <td>0</td>\n",
       "    </tr>\n",
       "  </tbody>\n",
       "</table>\n",
       "<p>5 rows × 31 columns</p>\n",
       "</div>"
      ],
      "text/plain": [
       "   Time        V1        V2        V3        V4        V5        V6        V7  \\\n",
       "0   0.0 -1.359807 -0.072781  2.536347  1.378155 -0.338321  0.462388  0.239599   \n",
       "1   0.0  1.191857  0.266151  0.166480  0.448154  0.060018 -0.082361 -0.078803   \n",
       "2   1.0 -1.358354 -1.340163  1.773209  0.379780 -0.503198  1.800499  0.791461   \n",
       "3   1.0 -0.966272 -0.185226  1.792993 -0.863291 -0.010309  1.247203  0.237609   \n",
       "4   2.0 -1.158233  0.877737  1.548718  0.403034 -0.407193  0.095921  0.592941   \n",
       "\n",
       "         V8        V9  ...       V21       V22       V23       V24       V25  \\\n",
       "0  0.098698  0.363787  ... -0.018307  0.277838 -0.110474  0.066928  0.128539   \n",
       "1  0.085102 -0.255425  ... -0.225775 -0.638672  0.101288 -0.339846  0.167170   \n",
       "2  0.247676 -1.514654  ...  0.247998  0.771679  0.909412 -0.689281 -0.327642   \n",
       "3  0.377436 -1.387024  ... -0.108300  0.005274 -0.190321 -1.175575  0.647376   \n",
       "4 -0.270533  0.817739  ... -0.009431  0.798278 -0.137458  0.141267 -0.206010   \n",
       "\n",
       "        V26       V27       V28  Amount  Class  \n",
       "0 -0.189115  0.133558 -0.021053  149.62      0  \n",
       "1  0.125895 -0.008983  0.014724    2.69      0  \n",
       "2 -0.139097 -0.055353 -0.059752  378.66      0  \n",
       "3 -0.221929  0.062723  0.061458  123.50      0  \n",
       "4  0.502292  0.219422  0.215153   69.99      0  \n",
       "\n",
       "[5 rows x 31 columns]"
      ]
     },
     "execution_count": 4,
     "metadata": {},
     "output_type": "execute_result"
    }
   ],
   "source": [
    "credit.head()"
   ]
  },
  {
   "cell_type": "code",
   "execution_count": 5,
   "id": "e6c5531a",
   "metadata": {
    "execution": {
     "iopub.execute_input": "2023-11-19T18:41:39.974461Z",
     "iopub.status.busy": "2023-11-19T18:41:39.974085Z",
     "iopub.status.idle": "2023-11-19T18:41:40.013474Z",
     "shell.execute_reply": "2023-11-19T18:41:40.012494Z"
    },
    "papermill": {
     "duration": 0.048393,
     "end_time": "2023-11-19T18:41:40.015924",
     "exception": false,
     "start_time": "2023-11-19T18:41:39.967531",
     "status": "completed"
    },
    "tags": []
   },
   "outputs": [
    {
     "name": "stdout",
     "output_type": "stream",
     "text": [
      "<class 'pandas.core.frame.DataFrame'>\n",
      "RangeIndex: 284807 entries, 0 to 284806\n",
      "Data columns (total 31 columns):\n",
      " #   Column  Non-Null Count   Dtype  \n",
      "---  ------  --------------   -----  \n",
      " 0   Time    284807 non-null  float64\n",
      " 1   V1      284807 non-null  float64\n",
      " 2   V2      284807 non-null  float64\n",
      " 3   V3      284807 non-null  float64\n",
      " 4   V4      284807 non-null  float64\n",
      " 5   V5      284807 non-null  float64\n",
      " 6   V6      284807 non-null  float64\n",
      " 7   V7      284807 non-null  float64\n",
      " 8   V8      284807 non-null  float64\n",
      " 9   V9      284807 non-null  float64\n",
      " 10  V10     284807 non-null  float64\n",
      " 11  V11     284807 non-null  float64\n",
      " 12  V12     284807 non-null  float64\n",
      " 13  V13     284807 non-null  float64\n",
      " 14  V14     284807 non-null  float64\n",
      " 15  V15     284807 non-null  float64\n",
      " 16  V16     284807 non-null  float64\n",
      " 17  V17     284807 non-null  float64\n",
      " 18  V18     284807 non-null  float64\n",
      " 19  V19     284807 non-null  float64\n",
      " 20  V20     284807 non-null  float64\n",
      " 21  V21     284807 non-null  float64\n",
      " 22  V22     284807 non-null  float64\n",
      " 23  V23     284807 non-null  float64\n",
      " 24  V24     284807 non-null  float64\n",
      " 25  V25     284807 non-null  float64\n",
      " 26  V26     284807 non-null  float64\n",
      " 27  V27     284807 non-null  float64\n",
      " 28  V28     284807 non-null  float64\n",
      " 29  Amount  284807 non-null  float64\n",
      " 30  Class   284807 non-null  int64  \n",
      "dtypes: float64(30), int64(1)\n",
      "memory usage: 67.4 MB\n"
     ]
    }
   ],
   "source": [
    "credit.info()"
   ]
  },
  {
   "cell_type": "markdown",
   "id": "6a009256",
   "metadata": {
    "papermill": {
     "duration": 0.004639,
     "end_time": "2023-11-19T18:41:40.025575",
     "exception": false,
     "start_time": "2023-11-19T18:41:40.020936",
     "status": "completed"
    },
    "tags": []
   },
   "source": [
    "Data doesn't contain any missing values "
   ]
  },
  {
   "cell_type": "code",
   "execution_count": 6,
   "id": "73c937df",
   "metadata": {
    "execution": {
     "iopub.execute_input": "2023-11-19T18:41:40.037014Z",
     "iopub.status.busy": "2023-11-19T18:41:40.036651Z",
     "iopub.status.idle": "2023-11-19T18:41:40.504070Z",
     "shell.execute_reply": "2023-11-19T18:41:40.502897Z"
    },
    "papermill": {
     "duration": 0.47616,
     "end_time": "2023-11-19T18:41:40.506553",
     "exception": false,
     "start_time": "2023-11-19T18:41:40.030393",
     "status": "completed"
    },
    "tags": []
   },
   "outputs": [
    {
     "data": {
      "text/html": [
       "<div>\n",
       "<style scoped>\n",
       "    .dataframe tbody tr th:only-of-type {\n",
       "        vertical-align: middle;\n",
       "    }\n",
       "\n",
       "    .dataframe tbody tr th {\n",
       "        vertical-align: top;\n",
       "    }\n",
       "\n",
       "    .dataframe thead th {\n",
       "        text-align: right;\n",
       "    }\n",
       "</style>\n",
       "<table border=\"1\" class=\"dataframe\">\n",
       "  <thead>\n",
       "    <tr style=\"text-align: right;\">\n",
       "      <th></th>\n",
       "      <th>Time</th>\n",
       "      <th>V1</th>\n",
       "      <th>V2</th>\n",
       "      <th>V3</th>\n",
       "      <th>V4</th>\n",
       "      <th>V5</th>\n",
       "      <th>V6</th>\n",
       "      <th>V7</th>\n",
       "      <th>V8</th>\n",
       "      <th>V9</th>\n",
       "      <th>...</th>\n",
       "      <th>V21</th>\n",
       "      <th>V22</th>\n",
       "      <th>V23</th>\n",
       "      <th>V24</th>\n",
       "      <th>V25</th>\n",
       "      <th>V26</th>\n",
       "      <th>V27</th>\n",
       "      <th>V28</th>\n",
       "      <th>Amount</th>\n",
       "      <th>Class</th>\n",
       "    </tr>\n",
       "  </thead>\n",
       "  <tbody>\n",
       "    <tr>\n",
       "      <th>count</th>\n",
       "      <td>284807.000000</td>\n",
       "      <td>2.848070e+05</td>\n",
       "      <td>2.848070e+05</td>\n",
       "      <td>2.848070e+05</td>\n",
       "      <td>2.848070e+05</td>\n",
       "      <td>2.848070e+05</td>\n",
       "      <td>2.848070e+05</td>\n",
       "      <td>2.848070e+05</td>\n",
       "      <td>2.848070e+05</td>\n",
       "      <td>2.848070e+05</td>\n",
       "      <td>...</td>\n",
       "      <td>2.848070e+05</td>\n",
       "      <td>2.848070e+05</td>\n",
       "      <td>2.848070e+05</td>\n",
       "      <td>2.848070e+05</td>\n",
       "      <td>2.848070e+05</td>\n",
       "      <td>2.848070e+05</td>\n",
       "      <td>2.848070e+05</td>\n",
       "      <td>2.848070e+05</td>\n",
       "      <td>284807.000000</td>\n",
       "      <td>284807.000000</td>\n",
       "    </tr>\n",
       "    <tr>\n",
       "      <th>mean</th>\n",
       "      <td>94813.859575</td>\n",
       "      <td>1.168375e-15</td>\n",
       "      <td>3.416908e-16</td>\n",
       "      <td>-1.379537e-15</td>\n",
       "      <td>2.074095e-15</td>\n",
       "      <td>9.604066e-16</td>\n",
       "      <td>1.487313e-15</td>\n",
       "      <td>-5.556467e-16</td>\n",
       "      <td>1.213481e-16</td>\n",
       "      <td>-2.406331e-15</td>\n",
       "      <td>...</td>\n",
       "      <td>1.654067e-16</td>\n",
       "      <td>-3.568593e-16</td>\n",
       "      <td>2.578648e-16</td>\n",
       "      <td>4.473266e-15</td>\n",
       "      <td>5.340915e-16</td>\n",
       "      <td>1.683437e-15</td>\n",
       "      <td>-3.660091e-16</td>\n",
       "      <td>-1.227390e-16</td>\n",
       "      <td>88.349619</td>\n",
       "      <td>0.001727</td>\n",
       "    </tr>\n",
       "    <tr>\n",
       "      <th>std</th>\n",
       "      <td>47488.145955</td>\n",
       "      <td>1.958696e+00</td>\n",
       "      <td>1.651309e+00</td>\n",
       "      <td>1.516255e+00</td>\n",
       "      <td>1.415869e+00</td>\n",
       "      <td>1.380247e+00</td>\n",
       "      <td>1.332271e+00</td>\n",
       "      <td>1.237094e+00</td>\n",
       "      <td>1.194353e+00</td>\n",
       "      <td>1.098632e+00</td>\n",
       "      <td>...</td>\n",
       "      <td>7.345240e-01</td>\n",
       "      <td>7.257016e-01</td>\n",
       "      <td>6.244603e-01</td>\n",
       "      <td>6.056471e-01</td>\n",
       "      <td>5.212781e-01</td>\n",
       "      <td>4.822270e-01</td>\n",
       "      <td>4.036325e-01</td>\n",
       "      <td>3.300833e-01</td>\n",
       "      <td>250.120109</td>\n",
       "      <td>0.041527</td>\n",
       "    </tr>\n",
       "    <tr>\n",
       "      <th>min</th>\n",
       "      <td>0.000000</td>\n",
       "      <td>-5.640751e+01</td>\n",
       "      <td>-7.271573e+01</td>\n",
       "      <td>-4.832559e+01</td>\n",
       "      <td>-5.683171e+00</td>\n",
       "      <td>-1.137433e+02</td>\n",
       "      <td>-2.616051e+01</td>\n",
       "      <td>-4.355724e+01</td>\n",
       "      <td>-7.321672e+01</td>\n",
       "      <td>-1.343407e+01</td>\n",
       "      <td>...</td>\n",
       "      <td>-3.483038e+01</td>\n",
       "      <td>-1.093314e+01</td>\n",
       "      <td>-4.480774e+01</td>\n",
       "      <td>-2.836627e+00</td>\n",
       "      <td>-1.029540e+01</td>\n",
       "      <td>-2.604551e+00</td>\n",
       "      <td>-2.256568e+01</td>\n",
       "      <td>-1.543008e+01</td>\n",
       "      <td>0.000000</td>\n",
       "      <td>0.000000</td>\n",
       "    </tr>\n",
       "    <tr>\n",
       "      <th>25%</th>\n",
       "      <td>54201.500000</td>\n",
       "      <td>-9.203734e-01</td>\n",
       "      <td>-5.985499e-01</td>\n",
       "      <td>-8.903648e-01</td>\n",
       "      <td>-8.486401e-01</td>\n",
       "      <td>-6.915971e-01</td>\n",
       "      <td>-7.682956e-01</td>\n",
       "      <td>-5.540759e-01</td>\n",
       "      <td>-2.086297e-01</td>\n",
       "      <td>-6.430976e-01</td>\n",
       "      <td>...</td>\n",
       "      <td>-2.283949e-01</td>\n",
       "      <td>-5.423504e-01</td>\n",
       "      <td>-1.618463e-01</td>\n",
       "      <td>-3.545861e-01</td>\n",
       "      <td>-3.171451e-01</td>\n",
       "      <td>-3.269839e-01</td>\n",
       "      <td>-7.083953e-02</td>\n",
       "      <td>-5.295979e-02</td>\n",
       "      <td>5.600000</td>\n",
       "      <td>0.000000</td>\n",
       "    </tr>\n",
       "    <tr>\n",
       "      <th>50%</th>\n",
       "      <td>84692.000000</td>\n",
       "      <td>1.810880e-02</td>\n",
       "      <td>6.548556e-02</td>\n",
       "      <td>1.798463e-01</td>\n",
       "      <td>-1.984653e-02</td>\n",
       "      <td>-5.433583e-02</td>\n",
       "      <td>-2.741871e-01</td>\n",
       "      <td>4.010308e-02</td>\n",
       "      <td>2.235804e-02</td>\n",
       "      <td>-5.142873e-02</td>\n",
       "      <td>...</td>\n",
       "      <td>-2.945017e-02</td>\n",
       "      <td>6.781943e-03</td>\n",
       "      <td>-1.119293e-02</td>\n",
       "      <td>4.097606e-02</td>\n",
       "      <td>1.659350e-02</td>\n",
       "      <td>-5.213911e-02</td>\n",
       "      <td>1.342146e-03</td>\n",
       "      <td>1.124383e-02</td>\n",
       "      <td>22.000000</td>\n",
       "      <td>0.000000</td>\n",
       "    </tr>\n",
       "    <tr>\n",
       "      <th>75%</th>\n",
       "      <td>139320.500000</td>\n",
       "      <td>1.315642e+00</td>\n",
       "      <td>8.037239e-01</td>\n",
       "      <td>1.027196e+00</td>\n",
       "      <td>7.433413e-01</td>\n",
       "      <td>6.119264e-01</td>\n",
       "      <td>3.985649e-01</td>\n",
       "      <td>5.704361e-01</td>\n",
       "      <td>3.273459e-01</td>\n",
       "      <td>5.971390e-01</td>\n",
       "      <td>...</td>\n",
       "      <td>1.863772e-01</td>\n",
       "      <td>5.285536e-01</td>\n",
       "      <td>1.476421e-01</td>\n",
       "      <td>4.395266e-01</td>\n",
       "      <td>3.507156e-01</td>\n",
       "      <td>2.409522e-01</td>\n",
       "      <td>9.104512e-02</td>\n",
       "      <td>7.827995e-02</td>\n",
       "      <td>77.165000</td>\n",
       "      <td>0.000000</td>\n",
       "    </tr>\n",
       "    <tr>\n",
       "      <th>max</th>\n",
       "      <td>172792.000000</td>\n",
       "      <td>2.454930e+00</td>\n",
       "      <td>2.205773e+01</td>\n",
       "      <td>9.382558e+00</td>\n",
       "      <td>1.687534e+01</td>\n",
       "      <td>3.480167e+01</td>\n",
       "      <td>7.330163e+01</td>\n",
       "      <td>1.205895e+02</td>\n",
       "      <td>2.000721e+01</td>\n",
       "      <td>1.559499e+01</td>\n",
       "      <td>...</td>\n",
       "      <td>2.720284e+01</td>\n",
       "      <td>1.050309e+01</td>\n",
       "      <td>2.252841e+01</td>\n",
       "      <td>4.584549e+00</td>\n",
       "      <td>7.519589e+00</td>\n",
       "      <td>3.517346e+00</td>\n",
       "      <td>3.161220e+01</td>\n",
       "      <td>3.384781e+01</td>\n",
       "      <td>25691.160000</td>\n",
       "      <td>1.000000</td>\n",
       "    </tr>\n",
       "  </tbody>\n",
       "</table>\n",
       "<p>8 rows × 31 columns</p>\n",
       "</div>"
      ],
      "text/plain": [
       "                Time            V1            V2            V3            V4  \\\n",
       "count  284807.000000  2.848070e+05  2.848070e+05  2.848070e+05  2.848070e+05   \n",
       "mean    94813.859575  1.168375e-15  3.416908e-16 -1.379537e-15  2.074095e-15   \n",
       "std     47488.145955  1.958696e+00  1.651309e+00  1.516255e+00  1.415869e+00   \n",
       "min         0.000000 -5.640751e+01 -7.271573e+01 -4.832559e+01 -5.683171e+00   \n",
       "25%     54201.500000 -9.203734e-01 -5.985499e-01 -8.903648e-01 -8.486401e-01   \n",
       "50%     84692.000000  1.810880e-02  6.548556e-02  1.798463e-01 -1.984653e-02   \n",
       "75%    139320.500000  1.315642e+00  8.037239e-01  1.027196e+00  7.433413e-01   \n",
       "max    172792.000000  2.454930e+00  2.205773e+01  9.382558e+00  1.687534e+01   \n",
       "\n",
       "                 V5            V6            V7            V8            V9  \\\n",
       "count  2.848070e+05  2.848070e+05  2.848070e+05  2.848070e+05  2.848070e+05   \n",
       "mean   9.604066e-16  1.487313e-15 -5.556467e-16  1.213481e-16 -2.406331e-15   \n",
       "std    1.380247e+00  1.332271e+00  1.237094e+00  1.194353e+00  1.098632e+00   \n",
       "min   -1.137433e+02 -2.616051e+01 -4.355724e+01 -7.321672e+01 -1.343407e+01   \n",
       "25%   -6.915971e-01 -7.682956e-01 -5.540759e-01 -2.086297e-01 -6.430976e-01   \n",
       "50%   -5.433583e-02 -2.741871e-01  4.010308e-02  2.235804e-02 -5.142873e-02   \n",
       "75%    6.119264e-01  3.985649e-01  5.704361e-01  3.273459e-01  5.971390e-01   \n",
       "max    3.480167e+01  7.330163e+01  1.205895e+02  2.000721e+01  1.559499e+01   \n",
       "\n",
       "       ...           V21           V22           V23           V24  \\\n",
       "count  ...  2.848070e+05  2.848070e+05  2.848070e+05  2.848070e+05   \n",
       "mean   ...  1.654067e-16 -3.568593e-16  2.578648e-16  4.473266e-15   \n",
       "std    ...  7.345240e-01  7.257016e-01  6.244603e-01  6.056471e-01   \n",
       "min    ... -3.483038e+01 -1.093314e+01 -4.480774e+01 -2.836627e+00   \n",
       "25%    ... -2.283949e-01 -5.423504e-01 -1.618463e-01 -3.545861e-01   \n",
       "50%    ... -2.945017e-02  6.781943e-03 -1.119293e-02  4.097606e-02   \n",
       "75%    ...  1.863772e-01  5.285536e-01  1.476421e-01  4.395266e-01   \n",
       "max    ...  2.720284e+01  1.050309e+01  2.252841e+01  4.584549e+00   \n",
       "\n",
       "                V25           V26           V27           V28         Amount  \\\n",
       "count  2.848070e+05  2.848070e+05  2.848070e+05  2.848070e+05  284807.000000   \n",
       "mean   5.340915e-16  1.683437e-15 -3.660091e-16 -1.227390e-16      88.349619   \n",
       "std    5.212781e-01  4.822270e-01  4.036325e-01  3.300833e-01     250.120109   \n",
       "min   -1.029540e+01 -2.604551e+00 -2.256568e+01 -1.543008e+01       0.000000   \n",
       "25%   -3.171451e-01 -3.269839e-01 -7.083953e-02 -5.295979e-02       5.600000   \n",
       "50%    1.659350e-02 -5.213911e-02  1.342146e-03  1.124383e-02      22.000000   \n",
       "75%    3.507156e-01  2.409522e-01  9.104512e-02  7.827995e-02      77.165000   \n",
       "max    7.519589e+00  3.517346e+00  3.161220e+01  3.384781e+01   25691.160000   \n",
       "\n",
       "               Class  \n",
       "count  284807.000000  \n",
       "mean        0.001727  \n",
       "std         0.041527  \n",
       "min         0.000000  \n",
       "25%         0.000000  \n",
       "50%         0.000000  \n",
       "75%         0.000000  \n",
       "max         1.000000  \n",
       "\n",
       "[8 rows x 31 columns]"
      ]
     },
     "execution_count": 6,
     "metadata": {},
     "output_type": "execute_result"
    }
   ],
   "source": [
    "credit.describe()"
   ]
  },
  {
   "cell_type": "code",
   "execution_count": 7,
   "id": "feb6ed9c",
   "metadata": {
    "execution": {
     "iopub.execute_input": "2023-11-19T18:41:40.519533Z",
     "iopub.status.busy": "2023-11-19T18:41:40.519100Z",
     "iopub.status.idle": "2023-11-19T18:41:40.968579Z",
     "shell.execute_reply": "2023-11-19T18:41:40.967509Z"
    },
    "papermill": {
     "duration": 0.458538,
     "end_time": "2023-11-19T18:41:40.970738",
     "exception": false,
     "start_time": "2023-11-19T18:41:40.512200",
     "status": "completed"
    },
    "tags": []
   },
   "outputs": [
    {
     "data": {
      "text/plain": [
       "Time      124592\n",
       "V1        275663\n",
       "V2        275663\n",
       "V3        275663\n",
       "V4        275663\n",
       "V5        275663\n",
       "V6        275663\n",
       "V7        275663\n",
       "V8        275663\n",
       "V9        275663\n",
       "V10       275663\n",
       "V11       275663\n",
       "V12       275663\n",
       "V13       275663\n",
       "V14       275663\n",
       "V15       275663\n",
       "V16       275663\n",
       "V17       275663\n",
       "V18       275663\n",
       "V19       275663\n",
       "V20       275663\n",
       "V21       275663\n",
       "V22       275663\n",
       "V23       275663\n",
       "V24       275663\n",
       "V25       275663\n",
       "V26       275663\n",
       "V27       275663\n",
       "V28       275663\n",
       "Amount     32767\n",
       "Class          2\n",
       "dtype: int64"
      ]
     },
     "execution_count": 7,
     "metadata": {},
     "output_type": "execute_result"
    }
   ],
   "source": [
    "credit.nunique()"
   ]
  },
  {
   "cell_type": "code",
   "execution_count": 8,
   "id": "5745394b",
   "metadata": {
    "execution": {
     "iopub.execute_input": "2023-11-19T18:41:40.983933Z",
     "iopub.status.busy": "2023-11-19T18:41:40.983563Z",
     "iopub.status.idle": "2023-11-19T18:41:40.988065Z",
     "shell.execute_reply": "2023-11-19T18:41:40.987073Z"
    },
    "papermill": {
     "duration": 0.013525,
     "end_time": "2023-11-19T18:41:40.990279",
     "exception": false,
     "start_time": "2023-11-19T18:41:40.976754",
     "status": "completed"
    },
    "tags": []
   },
   "outputs": [],
   "source": [
    "import warnings \n",
    "warnings.filterwarnings('ignore')"
   ]
  },
  {
   "cell_type": "code",
   "execution_count": 9,
   "id": "acf8a3be",
   "metadata": {
    "execution": {
     "iopub.execute_input": "2023-11-19T18:41:41.002759Z",
     "iopub.status.busy": "2023-11-19T18:41:41.002392Z",
     "iopub.status.idle": "2023-11-19T18:41:41.009664Z",
     "shell.execute_reply": "2023-11-19T18:41:41.008736Z"
    },
    "papermill": {
     "duration": 0.01578,
     "end_time": "2023-11-19T18:41:41.011717",
     "exception": false,
     "start_time": "2023-11-19T18:41:40.995937",
     "status": "completed"
    },
    "tags": []
   },
   "outputs": [
    {
     "data": {
      "text/plain": [
       "Index(['Time', 'V1', 'V2', 'V3', 'V4', 'V5', 'V6', 'V7', 'V8', 'V9', 'V10',\n",
       "       'V11', 'V12', 'V13', 'V14', 'V15', 'V16', 'V17', 'V18', 'V19', 'V20',\n",
       "       'V21', 'V22', 'V23', 'V24', 'V25', 'V26', 'V27', 'V28', 'Amount',\n",
       "       'Class'],\n",
       "      dtype='object')"
      ]
     },
     "execution_count": 9,
     "metadata": {},
     "output_type": "execute_result"
    }
   ],
   "source": [
    "credit.columns"
   ]
  },
  {
   "cell_type": "code",
   "execution_count": 10,
   "id": "a3d7b3e5",
   "metadata": {
    "execution": {
     "iopub.execute_input": "2023-11-19T18:41:41.024240Z",
     "iopub.status.busy": "2023-11-19T18:41:41.023873Z",
     "iopub.status.idle": "2023-11-19T18:41:41.245528Z",
     "shell.execute_reply": "2023-11-19T18:41:41.244453Z"
    },
    "papermill": {
     "duration": 0.230819,
     "end_time": "2023-11-19T18:41:41.247990",
     "exception": false,
     "start_time": "2023-11-19T18:41:41.017171",
     "status": "completed"
    },
    "tags": []
   },
   "outputs": [],
   "source": [
    "scale_data = credit.drop(['Class'], axis = 1)\n",
    "from sklearn.preprocessing import StandardScaler\n",
    "scaler = StandardScaler()\n",
    "for i in scale_data:\n",
    "    credit[i] = scaler.fit_transform(credit[[i]])"
   ]
  },
  {
   "cell_type": "code",
   "execution_count": 11,
   "id": "3344b19f",
   "metadata": {
    "execution": {
     "iopub.execute_input": "2023-11-19T18:41:41.261282Z",
     "iopub.status.busy": "2023-11-19T18:41:41.260895Z",
     "iopub.status.idle": "2023-11-19T18:41:41.548302Z",
     "shell.execute_reply": "2023-11-19T18:41:41.547114Z"
    },
    "papermill": {
     "duration": 0.297005,
     "end_time": "2023-11-19T18:41:41.550837",
     "exception": false,
     "start_time": "2023-11-19T18:41:41.253832",
     "status": "completed"
    },
    "tags": []
   },
   "outputs": [],
   "source": [
    "from sklearn.model_selection import train_test_split\n",
    "x = credit.drop(['Class', 'Time'], axis = 1)\n",
    "y = credit['Class']\n",
    "\n",
    "xtrain, xtest, ytrain, ytest = train_test_split(x,y, test_size = 0.30, random_state = 42)"
   ]
  },
  {
   "cell_type": "code",
   "execution_count": 12,
   "id": "ad535226",
   "metadata": {
    "execution": {
     "iopub.execute_input": "2023-11-19T18:41:41.564836Z",
     "iopub.status.busy": "2023-11-19T18:41:41.563637Z",
     "iopub.status.idle": "2023-11-19T18:53:27.969333Z",
     "shell.execute_reply": "2023-11-19T18:53:27.968144Z"
    },
    "papermill": {
     "duration": 706.41524,
     "end_time": "2023-11-19T18:53:27.971829",
     "exception": false,
     "start_time": "2023-11-19T18:41:41.556589",
     "status": "completed"
    },
    "tags": []
   },
   "outputs": [
    {
     "name": "stdout",
     "output_type": "stream",
     "text": [
      "Epoch 1/50\n",
      "6231/6231 [==============================] - 14s 2ms/step - loss: 0.0050 - accuracy: 0.9992 - val_loss: 0.0031 - val_accuracy: 0.9994\n",
      "Epoch 2/50\n",
      "6231/6231 [==============================] - 15s 2ms/step - loss: 0.0035 - accuracy: 0.9993 - val_loss: 0.0027 - val_accuracy: 0.9994\n",
      "Epoch 3/50\n",
      "6231/6231 [==============================] - 13s 2ms/step - loss: 0.0032 - accuracy: 0.9994 - val_loss: 0.0027 - val_accuracy: 0.9994\n",
      "Epoch 4/50\n",
      "6231/6231 [==============================] - 13s 2ms/step - loss: 0.0030 - accuracy: 0.9994 - val_loss: 0.0027 - val_accuracy: 0.9994\n",
      "Epoch 5/50\n",
      "6231/6231 [==============================] - 13s 2ms/step - loss: 0.0028 - accuracy: 0.9994 - val_loss: 0.0028 - val_accuracy: 0.9994\n",
      "Epoch 6/50\n",
      "6231/6231 [==============================] - 15s 2ms/step - loss: 0.0026 - accuracy: 0.9994 - val_loss: 0.0028 - val_accuracy: 0.9994\n",
      "Epoch 7/50\n",
      "6231/6231 [==============================] - 13s 2ms/step - loss: 0.0025 - accuracy: 0.9994 - val_loss: 0.0025 - val_accuracy: 0.9994\n",
      "Epoch 8/50\n",
      "6231/6231 [==============================] - 14s 2ms/step - loss: 0.0022 - accuracy: 0.9995 - val_loss: 0.0041 - val_accuracy: 0.9991\n",
      "Epoch 9/50\n",
      "6231/6231 [==============================] - 15s 2ms/step - loss: 0.0023 - accuracy: 0.9995 - val_loss: 0.0025 - val_accuracy: 0.9994\n",
      "Epoch 10/50\n",
      "6231/6231 [==============================] - 15s 2ms/step - loss: 0.0021 - accuracy: 0.9995 - val_loss: 0.0028 - val_accuracy: 0.9993\n",
      "Epoch 11/50\n",
      "6231/6231 [==============================] - 13s 2ms/step - loss: 0.0020 - accuracy: 0.9995 - val_loss: 0.0027 - val_accuracy: 0.9993\n",
      "Epoch 12/50\n",
      "6231/6231 [==============================] - 13s 2ms/step - loss: 0.0020 - accuracy: 0.9995 - val_loss: 0.0034 - val_accuracy: 0.9992\n",
      "Epoch 13/50\n",
      "6231/6231 [==============================] - 15s 2ms/step - loss: 0.0020 - accuracy: 0.9995 - val_loss: 0.0028 - val_accuracy: 0.9994\n",
      "Epoch 14/50\n",
      "6231/6231 [==============================] - 15s 2ms/step - loss: 0.0020 - accuracy: 0.9995 - val_loss: 0.0037 - val_accuracy: 0.9992\n",
      "Epoch 15/50\n",
      "6231/6231 [==============================] - 13s 2ms/step - loss: 0.0020 - accuracy: 0.9995 - val_loss: 0.0027 - val_accuracy: 0.9994\n",
      "Epoch 16/50\n",
      "6231/6231 [==============================] - 13s 2ms/step - loss: 0.0017 - accuracy: 0.9996 - val_loss: 0.0025 - val_accuracy: 0.9994\n",
      "Epoch 17/50\n",
      "6231/6231 [==============================] - 13s 2ms/step - loss: 0.0018 - accuracy: 0.9995 - val_loss: 0.0027 - val_accuracy: 0.9994\n",
      "Epoch 18/50\n",
      "6231/6231 [==============================] - 13s 2ms/step - loss: 0.0018 - accuracy: 0.9996 - val_loss: 0.0029 - val_accuracy: 0.9994\n",
      "Epoch 19/50\n",
      "6231/6231 [==============================] - 13s 2ms/step - loss: 0.0017 - accuracy: 0.9996 - val_loss: 0.0051 - val_accuracy: 0.9993\n",
      "Epoch 20/50\n",
      "6231/6231 [==============================] - 13s 2ms/step - loss: 0.0018 - accuracy: 0.9996 - val_loss: 0.0028 - val_accuracy: 0.9994\n",
      "Epoch 21/50\n",
      "6231/6231 [==============================] - 15s 2ms/step - loss: 0.0018 - accuracy: 0.9995 - val_loss: 0.0029 - val_accuracy: 0.9994\n",
      "Epoch 22/50\n",
      "6231/6231 [==============================] - 15s 2ms/step - loss: 0.0018 - accuracy: 0.9996 - val_loss: 0.0036 - val_accuracy: 0.9993\n",
      "Epoch 23/50\n",
      "6231/6231 [==============================] - 15s 2ms/step - loss: 0.0017 - accuracy: 0.9996 - val_loss: 0.0035 - val_accuracy: 0.9993\n",
      "Epoch 24/50\n",
      "6231/6231 [==============================] - 13s 2ms/step - loss: 0.0017 - accuracy: 0.9996 - val_loss: 0.0029 - val_accuracy: 0.9994\n",
      "Epoch 25/50\n",
      "6231/6231 [==============================] - 13s 2ms/step - loss: 0.0017 - accuracy: 0.9996 - val_loss: 0.0029 - val_accuracy: 0.9994\n",
      "Epoch 26/50\n",
      "6231/6231 [==============================] - 13s 2ms/step - loss: 0.0016 - accuracy: 0.9996 - val_loss: 0.0028 - val_accuracy: 0.9994\n",
      "Epoch 27/50\n",
      "6231/6231 [==============================] - 15s 2ms/step - loss: 0.0016 - accuracy: 0.9996 - val_loss: 0.0028 - val_accuracy: 0.9994\n",
      "Epoch 28/50\n",
      "6231/6231 [==============================] - 15s 2ms/step - loss: 0.0016 - accuracy: 0.9996 - val_loss: 0.0029 - val_accuracy: 0.9994\n",
      "Epoch 29/50\n",
      "6231/6231 [==============================] - 15s 2ms/step - loss: 0.0017 - accuracy: 0.9996 - val_loss: 0.0036 - val_accuracy: 0.9995\n",
      "Epoch 30/50\n",
      "6231/6231 [==============================] - 15s 2ms/step - loss: 0.0015 - accuracy: 0.9996 - val_loss: 0.0032 - val_accuracy: 0.9994\n",
      "Epoch 31/50\n",
      "6231/6231 [==============================] - 13s 2ms/step - loss: 0.0015 - accuracy: 0.9997 - val_loss: 0.0030 - val_accuracy: 0.9994\n",
      "Epoch 32/50\n",
      "6231/6231 [==============================] - 13s 2ms/step - loss: 0.0016 - accuracy: 0.9996 - val_loss: 0.0032 - val_accuracy: 0.9994\n",
      "Epoch 33/50\n",
      "6231/6231 [==============================] - 13s 2ms/step - loss: 0.0015 - accuracy: 0.9996 - val_loss: 0.0032 - val_accuracy: 0.9994\n",
      "Epoch 34/50\n",
      "6231/6231 [==============================] - 13s 2ms/step - loss: 0.0015 - accuracy: 0.9996 - val_loss: 0.0034 - val_accuracy: 0.9993\n",
      "Epoch 35/50\n",
      "6231/6231 [==============================] - 13s 2ms/step - loss: 0.0014 - accuracy: 0.9997 - val_loss: 0.0031 - val_accuracy: 0.9995\n",
      "Epoch 36/50\n",
      "6231/6231 [==============================] - 13s 2ms/step - loss: 0.0014 - accuracy: 0.9997 - val_loss: 0.0033 - val_accuracy: 0.9994\n",
      "Epoch 37/50\n",
      "6231/6231 [==============================] - 13s 2ms/step - loss: 0.0014 - accuracy: 0.9997 - val_loss: 0.0044 - val_accuracy: 0.9992\n",
      "Epoch 38/50\n",
      "6231/6231 [==============================] - 16s 3ms/step - loss: 0.0015 - accuracy: 0.9996 - val_loss: 0.0037 - val_accuracy: 0.9993\n",
      "Epoch 39/50\n",
      "6231/6231 [==============================] - 16s 3ms/step - loss: 0.0013 - accuracy: 0.9996 - val_loss: 0.0028 - val_accuracy: 0.9994\n",
      "Epoch 40/50\n",
      "6231/6231 [==============================] - 13s 2ms/step - loss: 0.0014 - accuracy: 0.9996 - val_loss: 0.0034 - val_accuracy: 0.9994\n",
      "Epoch 41/50\n",
      "6231/6231 [==============================] - 15s 2ms/step - loss: 0.0013 - accuracy: 0.9997 - val_loss: 0.0034 - val_accuracy: 0.9994\n",
      "Epoch 42/50\n",
      "6231/6231 [==============================] - 14s 2ms/step - loss: 0.0014 - accuracy: 0.9997 - val_loss: 0.0033 - val_accuracy: 0.9994\n",
      "Epoch 43/50\n",
      "6231/6231 [==============================] - 16s 3ms/step - loss: 0.0014 - accuracy: 0.9997 - val_loss: 0.0038 - val_accuracy: 0.9994\n",
      "Epoch 44/50\n",
      "6231/6231 [==============================] - 16s 3ms/step - loss: 0.0015 - accuracy: 0.9996 - val_loss: 0.0028 - val_accuracy: 0.9994\n",
      "Epoch 45/50\n",
      "6231/6231 [==============================] - 14s 2ms/step - loss: 0.0014 - accuracy: 0.9997 - val_loss: 0.0030 - val_accuracy: 0.9993\n",
      "Epoch 46/50\n",
      "6231/6231 [==============================] - 14s 2ms/step - loss: 0.0014 - accuracy: 0.9997 - val_loss: 0.0031 - val_accuracy: 0.9994\n",
      "Epoch 47/50\n",
      "6231/6231 [==============================] - 13s 2ms/step - loss: 0.0013 - accuracy: 0.9997 - val_loss: 0.0030 - val_accuracy: 0.9994\n",
      "Epoch 48/50\n",
      "6231/6231 [==============================] - 13s 2ms/step - loss: 0.0011 - accuracy: 0.9997 - val_loss: 0.0036 - val_accuracy: 0.9993\n",
      "Epoch 49/50\n",
      "6231/6231 [==============================] - 13s 2ms/step - loss: 0.0011 - accuracy: 0.9998 - val_loss: 0.0054 - val_accuracy: 0.9992\n",
      "Epoch 50/50\n",
      "6231/6231 [==============================] - 16s 3ms/step - loss: 0.0013 - accuracy: 0.9997 - val_loss: 0.0038 - val_accuracy: 0.9993\n",
      "2671/2671 [==============================] - 3s 1ms/step\n",
      "accuracy: 0.9993328885923949\n"
     ]
    }
   ],
   "source": [
    "model = Sequential()\n",
    "model.add(Dense(units = 128, input_dim = 29, activation = 'relu'))\n",
    "model.add(Dense(units = 64, activation = 'tanh'))\n",
    "model.add(Dense(units = 32, activation = 'relu'))\n",
    "model.add(Dense(units = 1, activation = 'sigmoid'))\n",
    "\n",
    "model.compile(loss = 'binary_crossentropy', optimizer = 'Adam' , metrics = ['accuracy'])\n",
    "\n",
    "model.fit(xtrain, ytrain , epochs = 50 , batch_size = 32, validation_data = (xtest,ytest))\n",
    "\n",
    "\n",
    "ypred = np.round(model.predict(xtest))\n",
    "\n",
    "accuracy = accuracy_score(ytest, ypred)\n",
    "\n",
    "print(f'accuracy: {accuracy}')\n"
   ]
  },
  {
   "cell_type": "code",
   "execution_count": 13,
   "id": "83922311",
   "metadata": {
    "execution": {
     "iopub.execute_input": "2023-11-19T18:53:29.392017Z",
     "iopub.status.busy": "2023-11-19T18:53:29.391371Z",
     "iopub.status.idle": "2023-11-19T18:53:29.396228Z",
     "shell.execute_reply": "2023-11-19T18:53:29.395139Z"
    },
    "papermill": {
     "duration": 0.688135,
     "end_time": "2023-11-19T18:53:29.398058",
     "exception": false,
     "start_time": "2023-11-19T18:53:28.709923",
     "status": "completed"
    },
    "tags": []
   },
   "outputs": [
    {
     "name": "stdout",
     "output_type": "stream",
     "text": [
      "(85443, 29)\n",
      "(199364, 29)\n"
     ]
    }
   ],
   "source": [
    "print(xtest.shape)\n",
    "print(xtrain.shape)"
   ]
  },
  {
   "cell_type": "code",
   "execution_count": 14,
   "id": "d721662a",
   "metadata": {
    "execution": {
     "iopub.execute_input": "2023-11-19T18:53:30.797028Z",
     "iopub.status.busy": "2023-11-19T18:53:30.796642Z",
     "iopub.status.idle": "2023-11-19T18:53:30.917926Z",
     "shell.execute_reply": "2023-11-19T18:53:30.916573Z"
    },
    "papermill": {
     "duration": 0.855213,
     "end_time": "2023-11-19T18:53:30.920212",
     "exception": false,
     "start_time": "2023-11-19T18:53:30.064999",
     "status": "completed"
    },
    "tags": []
   },
   "outputs": [
    {
     "name": "stdout",
     "output_type": "stream",
     "text": [
      "Accuracy: 0.9993328885923949\n",
      "Precision: 0.7801418439716312\n",
      "Recall: 0.8088235294117647\n",
      "F1 Score: 0.7942238267148015\n"
     ]
    }
   ],
   "source": [
    "accuracy = accuracy_score(ytest, ypred)\n",
    "precision = precision_score(ytest, ypred)\n",
    "recall = recall_score(ytest, ypred)\n",
    "f1 = f1_score(ytest, ypred)\n",
    "\n",
    "\n",
    "print(f'Accuracy: {accuracy}')\n",
    "print(f'Precision: {precision}')\n",
    "print(f'Recall: {recall}')\n",
    "print(f'F1 Score: {f1}')"
   ]
  },
  {
   "cell_type": "code",
   "execution_count": 15,
   "id": "3045dd57",
   "metadata": {
    "execution": {
     "iopub.execute_input": "2023-11-19T18:53:32.319373Z",
     "iopub.status.busy": "2023-11-19T18:53:32.318954Z",
     "iopub.status.idle": "2023-11-19T18:53:32.563729Z",
     "shell.execute_reply": "2023-11-19T18:53:32.562625Z"
    },
    "papermill": {
     "duration": 0.987056,
     "end_time": "2023-11-19T18:53:32.565960",
     "exception": false,
     "start_time": "2023-11-19T18:53:31.578904",
     "status": "completed"
    },
    "tags": []
   },
   "outputs": [
    {
     "data": {
      "image/png": "[encoded data removed]",
      "text/plain": [
       "<Figure size 640x480 with 1 Axes>"
      ]
     },
     "metadata": {},
     "output_type": "display_data"
    }
   ],
   "source": [
    "import matplotlib.pyplot as plt\n",
    "labels = ['Accuracy', 'Precision', 'Recall', 'F1 Score']\n",
    "values = [accuracy, precision, recall, f1]\n",
    "\n",
    "plt.bar(labels, values, color=['blue', 'green', 'orange', 'red'])\n",
    "plt.ylim(0, 1)  # Set y-axis limit to be between 0 and 1 for better visualization\n",
    "plt.title('Model Evaluation Metrics')\n",
    "plt.xlabel('Metrics')\n",
    "plt.ylabel('Score')\n",
    "plt.show()"
   ]
  },
  {
   "cell_type": "code",
   "execution_count": null,
   "id": "3eeebce7",
   "metadata": {
    "papermill": {
     "duration": 0.682572,
     "end_time": "2023-11-19T18:53:33.913787",
     "exception": false,
     "start_time": "2023-11-19T18:53:33.231215",
     "status": "completed"
    },
    "tags": []
   },
   "outputs": [],
   "source": []
  }
 ],
 "metadata": {
  "kaggle": {
   "accelerator": "none",
   "dataSources": [
    {
     "datasetId": 4026679,
     "sourceId": 7004257,
     "sourceType": "datasetVersion"
    },
    {
     "datasetId": 4026681,
     "sourceId": 7004260,
     "sourceType": "datasetVersion"
    },
    {
     "datasetId": 4026695,
     "sourceId": 7004285,
     "sourceType": "datasetVersion"
    }
   ],
   "dockerImageVersionId": 30587,
   "isGpuEnabled": false,
   "isInternetEnabled": true,
   "language": "python",
   "sourceType": "notebook"
  },
  "kernelspec": {
   "display_name": "Python 3",
   "language": "python",
   "name": "python3"
  },
  "language_info": {
   "codemirror_mode": {
    "name": "ipython",
    "version": 3
   },
   "file_extension": ".py",
   "mimetype": "text/x-python",
   "name": "python",
   "nbconvert_exporter": "python",
   "pygments_lexer": "ipython3",
   "version": "3.10.12"
  },
  "papermill": {
   "default_parameters": {},
   "duration": 736.447525,
   "end_time": "2023-11-19T18:53:36.276070",
   "environment_variables": {},
   "exception": null,
   "input_path": "__notebook__.ipynb",
   "output_path": "__notebook__.ipynb",
   "parameters": {},
   "start_time": "2023-11-19T18:41:19.828545",
   "version": "2.4.0"
  }
 },
 "nbformat": 4,
 "nbformat_minor": 5
}
